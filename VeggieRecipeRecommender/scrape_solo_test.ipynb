{
 "cells": [
  {
   "cell_type": "code",
   "execution_count": 37,
   "metadata": {},
   "outputs": [],
   "source": [
    "import requests\n",
    "from scrapy.http import TextResponse\n",
    "import re\n",
    "\n",
    "url = \"https://njam.tv/recepten/courgette-broccolipannetje-met-boekweitnoedels\"\n",
    "user_agent = {'User-Agent': 'Mozilla/5.0 (X11; Linux x86_64) AppleWebKit/537.36 (KHTML, like Gecko) Ubuntu Chromium/58: .0.3029.110 Chrome/58.0.3029.110 Safari/537.36'}\n",
    "\n",
    "r = requests.get(url, headers=user_agent)\n",
    "response = TextResponse(r.url, body=r.text, encoding='utf-8')"
   ]
  },
  {
   "cell_type": "code",
   "execution_count": 38,
   "metadata": {
    "scrolled": true
   },
   "outputs": [
    {
     "name": "stdout",
     "output_type": "stream",
     "text": [
      " 1 broccoli \n",
      " 2 uien \n",
      " 2 teentjes look \n",
      " 1 courgette \n",
      " 10 kastanjechampignons \n",
      " 170 gr boekweitnoedels \n",
      " 150 gr diepvrieserwtjes \n",
      " 1 granaatappel, de pitjes \n",
      " 4 el tamari of sojasaus \n",
      " olijfolie \n",
      " peper \n"
     ]
    }
   ],
   "source": [
    "# Inhoud ingredienten\n",
    "\n",
    "for el in response.xpath('//tr [@itemprop=\"recipeIngredient\"]').extract():\n",
    "    #REGEX\n",
    "    #Verwijder html tags\n",
    "    el=re.sub(\"<.*?>\", \"\",el)\n",
    "    #newline characters verwijderen\n",
    "    el=re.sub(\"[\\t\\r\\n]\",\" \",el)\n",
    "    #meerdere spaties vervangen door 1 spatie\n",
    "    el=re.sub(\" +\",\" \",el)\n",
    "    print(el)"
   ]
  },
  {
   "cell_type": "code",
   "execution_count": 39,
   "metadata": {},
   "outputs": [
    {
     "data": {
      "text/plain": [
       "['Snijd de broccoli in roosjes en stoom (of kook) ze gaar. Snipper de uien en de teentjes look fijn. Fruit ze aan in een scheutje olijfolie.\\n  ',\n",
       " 'Snijd de courgette in blokjes en de champignons in plakjes. Voeg deze groentjes bij de ui en de look en laat garen. \\n  ',\n",
       " 'Kook de boekweitnoedels gaar in +- 4 minuten en giet ze af. Kook de diepvrieserwtjes gaar in kokend water. \\n  ',\n",
       " 'Voeg nu de noedels, de broccoli en de erwtjes bij de andere groentjes. Doe er als laatste nog granaatappelpitjes en de cashewnoten bij en breng op smaak met peper en sojasaus.\\xa0']"
      ]
     },
     "execution_count": 39,
     "metadata": {},
     "output_type": "execute_result"
    }
   ],
   "source": [
    "# Text inhoud van alle 'stappen'\n",
    "response.xpath('//div [@class=\"reading instructions\"]/p/text()').extract()"
   ]
  },
  {
   "cell_type": "code",
   "execution_count": 41,
   "metadata": {},
   "outputs": [
    {
     "data": {
      "text/plain": [
       "'Courgette-broccolipannetje met boekweitnoedels\\n    '"
      ]
     },
     "execution_count": 41,
     "metadata": {},
     "output_type": "execute_result"
    }
   ],
   "source": [
    "#titel\n",
    "title = response.xpath('//h1/text()').extract()[0]\n",
    "#verwijder whitespace vooraan\n",
    "title = re.sub('^[\\t\\r\\n ]+','',title)\n",
    "title"
   ]
  },
  {
   "cell_type": "code",
   "execution_count": 42,
   "metadata": {},
   "outputs": [
    {
     "data": {
      "text/plain": [
       "5"
      ]
     },
     "execution_count": 42,
     "metadata": {},
     "output_type": "execute_result"
    }
   ],
   "source": [
    "#Rating, max 5\n",
    "len(response.xpath('//div [@class=\"rating\"]/span [@class=\"filled-stars\"]/span/i [@class=\"icon-star rating-full\"]').extract())"
   ]
  },
  {
   "cell_type": "code",
   "execution_count": null,
   "metadata": {},
   "outputs": [],
   "source": []
  }
 ],
 "metadata": {
  "kernelspec": {
   "display_name": "Python 3",
   "language": "python",
   "name": "python3"
  },
  "language_info": {
   "codemirror_mode": {
    "name": "ipython",
    "version": 3
   },
   "file_extension": ".py",
   "mimetype": "text/x-python",
   "name": "python",
   "nbconvert_exporter": "python",
   "pygments_lexer": "ipython3",
   "version": "3.6.4"
  }
 },
 "nbformat": 4,
 "nbformat_minor": 2
}
