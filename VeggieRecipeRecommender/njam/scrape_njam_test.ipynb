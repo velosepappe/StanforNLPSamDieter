{
 "cells": [
  {
   "cell_type": "code",
   "execution_count": 38,
   "metadata": {},
   "outputs": [],
   "source": [
    "import requests\n",
    "from scrapy.http import TextResponse\n",
    "import re\n",
    "\n",
    "url = \"https://njam.tv/recepten/bananenlollys\"\n",
    "user_agent = {'User-Agent': 'Mozilla/5.0 (X11; Linux x86_64) AppleWebKit/537.36 (KHTML, like Gecko) Ubuntu Chromium/58: .0.3029.110 Chrome/58.0.3029.110 Safari/537.36'}\n",
    "\n",
    "r = requests.get(url, headers=user_agent)\n",
    "response = TextResponse(r.url, body=r.text, encoding='utf-8')"
   ]
  },
  {
   "cell_type": "code",
   "execution_count": 39,
   "metadata": {
    "scrolled": true
   },
   "outputs": [
    {
     "name": "stdout",
     "output_type": "stream",
     "text": [
      " 3 bananen \n",
      " chocolade (70% puur) \n",
      " granola, cashews, gojibessen, bijenpollen, kokosschilfers \n"
     ]
    }
   ],
   "source": [
    "# Inhoud ingredienten\n",
    "\n",
    "for el in response.xpath('//tr [@itemprop=\"recipeIngredient\"]').extract():\n",
    "    #REGEX\n",
    "    #Verwijder html tags\n",
    "    el=re.sub(\"<.*?>\", \"\",el)\n",
    "    #newline characters verwijderen\n",
    "    el=re.sub(\"[\\t\\r\\n]\",\" \",el)\n",
    "    #meerdere spaties vervangen door 1 spatie\n",
    "    el=re.sub(\" +\",\" \",el)\n",
    "    print(el)"
   ]
  },
  {
   "cell_type": "code",
   "execution_count": 40,
   "metadata": {},
   "outputs": [
    {
     "name": "stdout",
     "output_type": "stream",
     "text": [
      "{'component': 'bananen', 'amount': '3', 'unit': ''}\n",
      "{'component': 'chocolade (70% puur)', 'amount': '', 'unit': ''}\n",
      "{'component': 'granola, cashews, gojibessen, bijenpollen, kokosschilfers', 'amount': '', 'unit': ''}\n"
     ]
    }
   ],
   "source": [
    "# Inhoud ingredienten\n",
    "\n",
    "for el in response.xpath('//tr [@itemprop=\"recipeIngredient\"]'):\n",
    "    #print(el.extract())\n",
    "    ingredient = {}\n",
    "    ingredient['component']= ''\n",
    "    ingredient['amount']=''\n",
    "    ingredient['unit']=''\n",
    "    component = el.xpath('.//td [@class=\"quantity-list-ingredient\"]/span [@data-name]/text()').extract()\n",
    "    amount= el.xpath('.//td [@class=\"quantity-list-unit\"]/span [@data-amount]/text()').extract()\n",
    "    unit= el.xpath('.//td [@class=\"quantity-list-unit\"]/span [@data-unit]/text()').extract()\n",
    "    if len(component) > 0:\n",
    "        ingredient['component']= component[0]\n",
    "    if len(amount) > 0:\n",
    "        ingredient['amount']= amount[0]\n",
    "    if len(unit) > 0:\n",
    "        ingredient['unit']= unit[0]\n",
    "        \n",
    "    print(ingredient)\n",
    "    #REGEX\n",
    "    #Verwijder html tags\n",
    "    #el=re.sub(\"<.*?>\", \"\",el)\n",
    "    #newline characters verwijderen\n",
    "    #el=re.sub(\"[\\t\\r\\n]\",\" \",el)\n",
    "    #meerdere spaties vervangen door 1 spatie\n",
    "    #el=re.sub(\" +\",\" \",el)\n",
    "    #print(el)"
   ]
  },
  {
   "cell_type": "code",
   "execution_count": 29,
   "metadata": {},
   "outputs": [
    {
     "data": {
      "text/plain": [
       "['Schil de zoete aardappel en snijd deze in kleine blokjes. Stoom de blokjes gaar in een stoommandje.',\n",
       " 'Doe de teentjes look in een ovenvast schaaltje en zet onder in olijfolie. Plaats het schaaltje gedurende 10 à 15 minuten in een voorverwarmde oven van 180 graden.',\n",
       " 'Pureer de blokjes zoete aardappel samen met de gegaarde look en de olijfolie. Kruid met peper en zout. ',\n",
       " 'Maak nu de kruidenolie. Verwarm twee eetlepels kokosolie in een steelpannetje op het vuur. Voeg het fijngesneden chilipepertje, de oregano en de tijm toe. Laat infuseren. ',\n",
       " 'Schil de jonge worteltjes en snijd het groen eraf. Snijd ze in de lengte in vieren. Leg de worteltjes samen met mini asperges op een met bakpapier beklede bakplaat. Smeer de groentjes in met de kruidenolie. ',\n",
       " 'Plaats de bakplaat gedurende 15 à 20 minuten in een voorverwarmde oven van 180 graden. ',\n",
       " 'Breng water in een steelpannetje aan de kook. Kook hierin de erwtjes. Giet de erwtjes af en voeg hier de avocado en het sap van de limoen aan toe. Mix tot een gladde puree. ',\n",
       " 'Schep de puree van zoete aardappel op een bord. Schik de worteltjes en asperges er mooi bovenop. Werk af met de puree van ertjes en avocado en verse kruiden. ']"
      ]
     },
     "execution_count": 29,
     "metadata": {},
     "output_type": "execute_result"
    }
   ],
   "source": [
    "# Text inhoud van alle 'stappen'\n",
    "response.xpath('//div [@class=\"reading instructions\"]/p/text()').extract()"
   ]
  },
  {
   "cell_type": "code",
   "execution_count": 4,
   "metadata": {},
   "outputs": [
    {
     "data": {
      "text/plain": [
       "'Puree van zoete aardappel met gegrilde groenten\\n    '"
      ]
     },
     "execution_count": 4,
     "metadata": {},
     "output_type": "execute_result"
    }
   ],
   "source": [
    "#titel\n",
    "title = response.xpath('//h1/text()').extract()[0]\n",
    "#verwijder whitespace vooraan\n",
    "title = re.sub('^[\\t\\r\\n ]+','',title)\n",
    "title"
   ]
  },
  {
   "cell_type": "code",
   "execution_count": 5,
   "metadata": {},
   "outputs": [
    {
     "data": {
      "text/plain": [
       "5"
      ]
     },
     "execution_count": 5,
     "metadata": {},
     "output_type": "execute_result"
    }
   ],
   "source": [
    "#Rating, max 5\n",
    "len(response.xpath('//div [@class=\"rating\"]/span [@class=\"filled-stars\"]/span/i [@class=\"icon-star rating-full\"]').extract())"
   ]
  },
  {
   "cell_type": "code",
   "execution_count": 8,
   "metadata": {},
   "outputs": [
    {
     "name": "stdout",
     "output_type": "stream",
     "text": [
      "width: 0%\n",
      "0\n"
     ]
    }
   ],
   "source": [
    "rating = response.xpath('//div [@class=\"global margin-top-sm\"]/div/div/div [@class=\"rating\"]/span [@class=\"filled-stars\"]/@style').extract()[0]\n",
    "print(rating)\n",
    "rating = rating.replace('width: ','')\n",
    "rating = rating.replace('%','')\n",
    "print(rating)"
   ]
  },
  {
   "cell_type": "code",
   "execution_count": null,
   "metadata": {},
   "outputs": [],
   "source": []
  }
 ],
 "metadata": {
  "kernelspec": {
   "display_name": "Python 3",
   "language": "python",
   "name": "python3"
  },
  "language_info": {
   "codemirror_mode": {
    "name": "ipython",
    "version": 3
   },
   "file_extension": ".py",
   "mimetype": "text/x-python",
   "name": "python",
   "nbconvert_exporter": "python",
   "pygments_lexer": "ipython3",
   "version": "3.6.4"
  }
 },
 "nbformat": 4,
 "nbformat_minor": 2
}
