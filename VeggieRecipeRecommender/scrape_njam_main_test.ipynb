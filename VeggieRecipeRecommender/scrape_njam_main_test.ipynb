{
 "cells": [
  {
   "cell_type": "code",
   "execution_count": 3,
   "metadata": {},
   "outputs": [],
   "source": [
    "import requests\n",
    "from scrapy.http import TextResponse\n",
    "import re\n",
    "\n",
    "url = \"https://njam.tv/recepten?page=2\"\n",
    "user_agent = {'User-Agent': 'Mozilla/5.0 (X11; Linux x86_64) AppleWebKit/537.36 (KHTML, like Gecko) Ubuntu Chromium/58: .0.3029.110 Chrome/58.0.3029.110 Safari/537.36'}\n",
    "\n",
    "r = requests.get(url, headers=user_agent)\n",
    "response = TextResponse(r.url, body=r.text, encoding='utf-8')"
   ]
  },
  {
   "cell_type": "code",
   "execution_count": 4,
   "metadata": {},
   "outputs": [
    {
     "name": "stdout",
     "output_type": "stream",
     "text": [
      "https://njam.tv/recepten/gepekelde-citroenen\n",
      "https://njam.tv/recepten/gnocchi-met-basilicum-romanesco-en-algenboter\n",
      "https://njam.tv/recepten/gebakken-banaan-en-kokossorbet-met-gekaramelliseerde-sesamzaadjes\n",
      "https://njam.tv/recepten/gezonde-worteltaartjes\n",
      "https://njam.tv/recepten/broccoli-preisoep-met-hartige-granola\n",
      "https://njam.tv/recepten/rode-quinoa-met-oosterse-zalm\n",
      "https://njam.tv/recepten/cronuts\n",
      "https://njam.tv/recepten/rucolasalade-met-kip-noten-en-rozijnen\n",
      "https://njam.tv/recepten/rijstsalade-met-gerookte-eend-en-courgette\n"
     ]
    }
   ],
   "source": [
    "#alle recepten op een pagina\n",
    "for receptUrl in response.xpath('//a[@class=\"tile-title\"]'):\n",
    "    print(receptUrl.xpath(\"@href\").extract()[0])"
   ]
  }
 ],
 "metadata": {
  "kernelspec": {
   "display_name": "Python 3",
   "language": "python",
   "name": "python3"
  },
  "language_info": {
   "codemirror_mode": {
    "name": "ipython",
    "version": 3
   },
   "file_extension": ".py",
   "mimetype": "text/x-python",
   "name": "python",
   "nbconvert_exporter": "python",
   "pygments_lexer": "ipython3",
   "version": "3.6.4"
  }
 },
 "nbformat": 4,
 "nbformat_minor": 2
}
