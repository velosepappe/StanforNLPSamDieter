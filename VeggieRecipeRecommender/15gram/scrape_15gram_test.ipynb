{
 "cells": [
  {
   "cell_type": "code",
   "execution_count": 1,
   "metadata": {},
   "outputs": [],
   "source": [
    "import requests\n",
    "from scrapy.http import TextResponse\n",
    "import re\n",
    "\n",
    "url = \"https://15gram.be/recepten/witte-pizza-met-gehakt-gekaramelliseerde-ui-en-een-slaatje\"\n",
    "user_agent = {'User-Agent': 'Mozilla/5.0 (X11; Linux x86_64) AppleWebKit/537.36 (KHTML, like Gecko) Ubuntu Chromium/58: .0.3029.110 Chrome/58.0.3029.110 Safari/537.36'}\n",
    "\n",
    "r = requests.get(url, headers=user_agent)\n",
    "response = TextResponse(r.url, body=r.text, encoding='utf-8')"
   ]
  },
  {
   "cell_type": "code",
   "execution_count": 2,
   "metadata": {},
   "outputs": [
    {
     "name": "stdout",
     "output_type": "stream",
     "text": [
      "2 uien\n",
      "2 takjes tijm\n",
      "300 g gemengd gehakt\n",
      "125 g mozzarella\n",
      "1 pizzadeeg\n",
      "30 g hazelnoten\n",
      "50 g rucola\n",
      "1 el olijfolie\n",
      "1 el olijfolie extra vierge\n",
      "1 kl mosterd\n",
      "1 kl wittewijnazijn\n",
      "peper en zout\n"
     ]
    }
   ],
   "source": [
    "# Inhoud ingredienten: let op, geen aparte elementen voor hoeveelheid en eenheden\n",
    "\n",
    "for el in response.xpath('//li[@itemprop=\"recipeIngredient\"]/text()').extract():\n",
    "    \n",
    "    print(el)"
   ]
  },
  {
   "cell_type": "code",
   "execution_count": 3,
   "metadata": {
    "scrolled": true
   },
   "outputs": [
    {
     "name": "stdout",
     "output_type": "stream",
     "text": [
      "Verwarm de oven voor op 230 °C. Snij de uien in fijne plakjes. Rits de blaadjes van de takjes tijm.\n",
      "Verhit de olijfolie in een pan en stoof de uien met de tijm op een laag vuur voor 7 minuten.\n",
      "Rol ondertussen kleine balletjes van het gehakt.\n",
      "Scheur de mozzarella in stukjes. Leg het pizzadeeg voor je uit op een met bakpapier beklede bakplaat en schep er de gekaramelliseerde uien op. Verdeel de gehaktballetjes en de mozzarella over de pizza. Kruid met peper en zout en zet 12 minuten in de oven.\n",
      "Hak de hazelnoten grof. Meng de wittewijnazijn met de mosterd en de extra vierge olijfolie en kruid met peper en zout. Doe de rucola in een kom en doe er de grofgehakte hazelnoten bij en bedruppel met de dressing.\n",
      "Snij de pizza in stukken en serveer met het slaatje.\n"
     ]
    }
   ],
   "source": [
    "# Text inhoud van alle 'stappen'\n",
    "for el in response.xpath('//li[@itemprop=\"recipeInstructions\"]/text()').extract():\n",
    "    \n",
    "    print(el)"
   ]
  },
  {
   "cell_type": "code",
   "execution_count": 4,
   "metadata": {},
   "outputs": [
    {
     "data": {
      "text/plain": [
       "'Witte pizza met gehakt, gekaramelliseerde ui en een slaatje'"
      ]
     },
     "execution_count": 4,
     "metadata": {},
     "output_type": "execute_result"
    }
   ],
   "source": [
    "#titel\n",
    "title = response.xpath('//h1 [@itemprop=\"name\"]/text()').extract()[0]\n",
    "#verwijder whitespace vooraan\n",
    "title = re.sub('^[\\t\\r\\n ]+','',title)\n",
    "title"
   ]
  },
  {
   "cell_type": "code",
   "execution_count": 5,
   "metadata": {},
   "outputs": [
    {
     "data": {
      "text/plain": [
       "\"Witte pizza of 'pizza bianco' is een pizzasoort die bij ons niet zo gekend is, maar wel degelijk vaak gegeten wordt in Italië. De tomatensaus is afwezig maar dat wordt ruimschoots goed gemaakt door heerlijke gestoofde uien met tijm, gehaktballetjes en mozzarella. Daarbij komt een slaatje van rucola en hazelnoten.\""
      ]
     },
     "execution_count": 5,
     "metadata": {},
     "output_type": "execute_result"
    }
   ],
   "source": [
    "#Beschrijving\n",
    "description = response.xpath('//div [@class=\"recipe-description row\"]/div/p/text()').extract()[0]\n",
    "description = re.sub('^[\\t\\r\\n ]+','',description)\n",
    "description = re.sub('[\\t\\r\\n ]+$','',description)\n",
    "description"
   ]
  },
  {
   "cell_type": "code",
   "execution_count": 6,
   "metadata": {},
   "outputs": [
    {
     "data": {
      "text/plain": [
       "['0']"
      ]
     },
     "execution_count": 6,
     "metadata": {},
     "output_type": "execute_result"
    }
   ],
   "source": [
    "#Aantal favorites\n",
    "response.xpath('//button [@class=\"favorite user-action-button small\"]/span [@class=\"count\"]/text()').extract()"
   ]
  },
  {
   "cell_type": "code",
   "execution_count": 7,
   "metadata": {},
   "outputs": [
    {
     "data": {
      "text/plain": [
       "[]"
      ]
     },
     "execution_count": 7,
     "metadata": {},
     "output_type": "execute_result"
    }
   ],
   "source": [
    "#vegetarsch? er staat een link naar 'zoeken op vegetarisch'\n",
    "response.xpath('//a [@href=\"https://15gram.be/tag/vegetarisch\"]/text()').extract()"
   ]
  },
  {
   "cell_type": "code",
   "execution_count": 8,
   "metadata": {},
   "outputs": [
    {
     "name": "stdout",
     "output_type": "stream",
     "text": [
      "hoofdgerecht\n",
      "pizza\n",
      "Europees\n",
      "Italiaans\n",
      "rucola\n",
      "worst\n",
      "Cholesterolarm\n",
      "Hoog vezelgehalte\n",
      "herfst\n"
     ]
    }
   ],
   "source": [
    "# alle tags\n",
    "#response.xpath('//div [@class=\"tags-elements\"]/ul/li/a/text()')\n",
    "for tag in response.xpath('//div [@class=\"tags-elements\"]/ul/li/a/text()').extract():\n",
    "    tag = re.sub('^[\\t\\r\\n ]+','',tag)\n",
    "    tag = re.sub('[\\t\\r\\n ]+$','',tag)\n",
    "    print(tag)"
   ]
  },
  {
   "cell_type": "markdown",
   "metadata": {},
   "source": [
    "Ook een optie voor voedingswaarden"
   ]
  }
 ],
 "metadata": {
  "kernelspec": {
   "display_name": "Python 3",
   "language": "python",
   "name": "python3"
  },
  "language_info": {
   "codemirror_mode": {
    "name": "ipython",
    "version": 3
   },
   "file_extension": ".py",
   "mimetype": "text/x-python",
   "name": "python",
   "nbconvert_exporter": "python",
   "pygments_lexer": "ipython3",
   "version": "3.6.4"
  }
 },
 "nbformat": 4,
 "nbformat_minor": 2
}
