{
 "cells": [
  {
   "cell_type": "code",
   "execution_count": 1,
   "metadata": {},
   "outputs": [],
   "source": [
    "import requests\n",
    "from scrapy.http import TextResponse\n",
    "import re\n",
    "import json"
   ]
  },
  {
   "cell_type": "code",
   "execution_count": 2,
   "metadata": {},
   "outputs": [],
   "source": [
    "mainUrl = \"https://www.ah.be/allerhande/recepten-zoeken?format=json&No=\"\n",
    "user_agent = {'User-Agent': 'Mozilla/5.0 (X11; Linux x86_64) AppleWebKit/537.36 (KHTML, like Gecko) Ubuntu Chromium/58: .0.3029.110 Chrome/58.0.3029.110 Safari/537.36'}\n",
    "page = 1\n",
    "recipePrefix = \"https://www.ah.be/allerhande/recept\"\n"
   ]
  },
  {
   "cell_type": "code",
   "execution_count": 3,
   "metadata": {},
   "outputs": [],
   "source": [
    "def getResponse(url, user_agent):\n",
    "    r = requests.get(url, headers=user_agent)\n",
    "    return TextResponse(r.url, body=r.text, encoding='utf-8')"
   ]
  },
  {
   "cell_type": "code",
   "execution_count": 4,
   "metadata": {},
   "outputs": [],
   "source": [
    "def getReceptUrls(previousIndex):\n",
    "    resp = getResponse(mainUrl + str(previousIndex), user_agent)\n",
    "    jsonObject = json.loads(resp.text)\n",
    "    urls = []\n",
    "    for record in jsonObject[\"contents\"][0][\"contentArea\"][2][\"mainContent\"][1][\"contents\"][0][\"records\"]:\n",
    "        urls.append(recipePrefix + record[\"detailsAction\"][\"recordState\"])\n",
    "    return urls"
   ]
  },
  {
   "cell_type": "code",
   "execution_count": 5,
   "metadata": {},
   "outputs": [],
   "source": [
    "def title(response):\n",
    "    title = response.xpath('//h1 [@itemprop=\"name\"]/text()').extract()[0]\n",
    "    #Remove soft hyphens\n",
    "    title = title.replace('­', '')\n",
    "    return title"
   ]
  },
  {
   "cell_type": "code",
   "execution_count": 6,
   "metadata": {},
   "outputs": [],
   "source": [
    "def description(response):\n",
    "    description = response.xpath('//h1 [@class=\"hidden-phones\"]/text()').extract()[0]"
   ]
  },
  {
   "cell_type": "code",
   "execution_count": 7,
   "metadata": {},
   "outputs": [],
   "source": [
    "def rating(response):\n",
    "    rating = 0\n",
    "    ratings = response.xpath('//div [@class=\"rating \"]')[0]\n",
    "    for star in ratings.xpath('.//ul/li/div/@class').extract():\n",
    "        if bool(re.search('active', star)):\n",
    "            rating = rating + 1\n",
    "    return rating"
   ]
  },
  {
   "cell_type": "code",
   "execution_count": 8,
   "metadata": {},
   "outputs": [],
   "source": [
    "def votes(response):\n",
    "    votes = response.xpath('//div [@class=\"rating \"]/span [@class=\"all-rates\"]/span/text()').extract()\n",
    "    if len(votes) > 0:\n",
    "        return int(votes[0])\n",
    "    else:\n",
    "        return -1"
   ]
  },
  {
   "cell_type": "code",
   "execution_count": 9,
   "metadata": {},
   "outputs": [],
   "source": [
    "# Inhoud ingredienten\n",
    "def ingredients(response):\n",
    "    ingredients = []\n",
    "    for el in response.xpath('//li [@itemprop=\"ingredients\"]'):\n",
    "        ingredient = {}\n",
    "        component = el.xpath('.//a/@data-search-term').extract()\n",
    "        amount = el.xpath('.//a/@data-quantity').extract()\n",
    "        unit = el.xpath('.//a/@data-quantity-unit-singular').extract()\n",
    "        description = el.xpath('.//a/@data-default-label').extract()\n",
    "        if len(description) > 0:\n",
    "            ingredient['description']= description[0]\n",
    "        if len(component) > 0:\n",
    "            ingredient['component']= component[0]\n",
    "            if len(amount) > 0:\n",
    "                ingredient['amount']= amount[0]\n",
    "            if len(unit) > 0:\n",
    "                ingredient['unit']= unit[0]\n",
    "            ingredients.append(ingredient) \n",
    "    return ingredients"
   ]
  },
  {
   "cell_type": "code",
   "execution_count": 10,
   "metadata": {},
   "outputs": [],
   "source": [
    "def instructions(response):\n",
    "    instructions = []\n",
    "    for step in response.xpath('//section [@class=\"preparation\"]/ol/li/text()').extract():\n",
    "        instructions.append(step)\n",
    "    return instructions"
   ]
  },
  {
   "cell_type": "code",
   "execution_count": 11,
   "metadata": {},
   "outputs": [],
   "source": [
    "def labels(response):\n",
    "    labels = []\n",
    "    for label in response.xpath('//section [@class=\"tags\"]/ul [@class=\"tags\"]/li/a/text()').extract():\n",
    "        labels.append(label)\n",
    "    return labels"
   ]
  },
  {
   "cell_type": "code",
   "execution_count": 12,
   "metadata": {},
   "outputs": [],
   "source": [
    "def createRecipe(url):\n",
    "    response = getResponse(url, user_agent)\n",
    "    recipe = {\n",
    "            'url':url,\n",
    "            'name':title(response),\n",
    "            'rating':rating(response),\n",
    "            'maxRating':5,\n",
    "            'votes':votes(response),\n",
    "            'ingredients':ingredients(response),\n",
    "            'instructions':instructions(response),\n",
    "            'labels':labels(response)\n",
    "        }\n",
    "    return recipe"
   ]
  },
  {
   "cell_type": "code",
   "execution_count": 13,
   "metadata": {},
   "outputs": [
    {
     "name": "stdout",
     "output_type": "stream",
     "text": [
      "PAGE 1\n",
      "https://www.ah.be/allerhande/recept/R-R1190455/traktatie-van-eetbare-slakken\n",
      "RECEPT 1\n",
      "https://www.ah.be/allerhande/recept/R-R1190454/traktatie-van-appels-in-monstervorm\n",
      "RECEPT 2\n",
      "https://www.ah.be/allerhande/recept/R-R1190453/galaxy-slush-cocktail\n",
      "RECEPT 3\n",
      "https://www.ah.be/allerhande/recept/R-R1190452/vegan-nachos-uit-de-oven-met-tomatensalsa\n",
      "RECEPT 4\n",
      "https://www.ah.be/allerhande/recept/R-R1190451/vegan-banh-mi\n",
      "RECEPT 5\n",
      "https://www.ah.be/allerhande/recept/R-R1190450/taco-s-met-crispy-polenta-halloumi\n",
      "RECEPT 6\n",
      "https://www.ah.be/allerhande/recept/R-R1190449/noten-rozijnenbrood\n",
      "RECEPT 7\n",
      "https://www.ah.be/allerhande/recept/R-R1190448/pizza-tartufato\n",
      "RECEPT 8\n",
      "https://www.ah.be/allerhande/recept/R-R1190447/pastasalade-met-tonijn\n",
      "RECEPT 9\n",
      "https://www.ah.be/allerhande/recept/R-R1190446/naan-met-zalm-in-sojasaus-en-sojabonenspread\n",
      "RECEPT 10\n",
      "https://www.ah.be/allerhande/recept/R-R1190445/kip-en-groenten-van-de-bakplaat\n",
      "RECEPT 11\n",
      "https://www.ah.be/allerhande/recept/R-R1190444/sushisalade-met-krokante-kip\n",
      "RECEPT 12\n",
      "https://www.ah.be/allerhande/recept/R-R1190443/spaghetti-met-zongedroogde-tomaten\n",
      "RECEPT 13\n",
      "https://www.ah.be/allerhande/recept/R-R1190442/open-sandwich-met-worst-en-mosterd\n",
      "RECEPT 14\n",
      "https://www.ah.be/allerhande/recept/R-R1190441/marokkaanse-couscous-met-aubergine\n",
      "RECEPT 15\n",
      "https://www.ah.be/allerhande/recept/R-R1190440/groene-groentesalade-met-stroopdressing\n",
      "RECEPT 16\n",
      "https://www.ah.be/allerhande/recept/R-R1190436/gefrituurde-augurkjes\n",
      "RECEPT 17\n",
      "https://www.ah.be/allerhande/recept/R-R1190434/chocoladepizza\n",
      "RECEPT 18\n",
      "https://www.ah.be/allerhande/recept/R-R1190433/aziatische-groentecocktail-met-komkommer\n",
      "RECEPT 19\n",
      "https://www.ah.be/allerhande/recept/R-R1190432/alcoholvrije-biercocktail\n",
      "RECEPT 20\n",
      "https://www.ah.be/allerhande/recept/R-R1190431/avocado-bounty-van-fooddeco\n",
      "RECEPT 21\n",
      "https://www.ah.be/allerhande/recept/R-R1190430/sushicado-van-fooddeco\n",
      "RECEPT 22\n",
      "https://www.ah.be/allerhande/recept/R-R1190429/ultieme-cheeseburger\n",
      "RECEPT 23\n",
      "https://www.ah.be/allerhande/recept/R-R1190428/caesarsalad-on-a-stick\n",
      "RECEPT 24\n"
     ]
    }
   ],
   "source": [
    "data = {}\n",
    "data['recipes']=[]\n",
    "index = 0\n",
    "while True:\n",
    "    print(\"PAGE \" + str(page))\n",
    "    receptPages = getReceptUrls(index)\n",
    "    if (len(receptPages) == 0):\n",
    "        break\n",
    "    #alle recepten op een pagina\n",
    "    for receptUrl in receptPages:\n",
    "        index = index + 1\n",
    "        print(receptUrl)\n",
    "        print(\"RECEPT \" + str(index))\n",
    "        data['recipes'].append(createRecipe(receptUrl))\n",
    "    \n",
    "    if page%100 == 0:\n",
    "        print('EXPORTING TO ' + 'data' + str(page) + '.txt')\n",
    "        with open('data' + str(page) + '.txt', 'w', encoding='utf8') as outfile:  \n",
    "            json.dump(data, outfile, ensure_ascii=False)\n",
    "        data['recipes']=[]    \n",
    "    \n",
    "    page = page+ 1\n",
    "\n",
    "print('EXPORTING TO ' + 'data' + str(page) + '.txt')\n",
    "with open('data' + str(page) + '.txt', 'w', encoding='utf8') as outfile:  \n",
    "    json.dump(data, outfile, ensure_ascii=False)\n",
    "print(\"DONE\")"
   ]
  },
  {
   "cell_type": "code",
   "execution_count": null,
   "metadata": {},
   "outputs": [],
   "source": []
  }
 ],
 "metadata": {
  "kernelspec": {
   "display_name": "Python 3",
   "language": "python",
   "name": "python3"
  },
  "language_info": {
   "codemirror_mode": {
    "name": "ipython",
    "version": 3
   },
   "file_extension": ".py",
   "mimetype": "text/x-python",
   "name": "python",
   "nbconvert_exporter": "python",
   "pygments_lexer": "ipython3",
   "version": "3.6.4"
  }
 },
 "nbformat": 4,
 "nbformat_minor": 2
}
