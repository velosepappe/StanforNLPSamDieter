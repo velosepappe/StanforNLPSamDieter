{
 "cells": [
  {
   "cell_type": "code",
   "execution_count": 1,
   "metadata": {},
   "outputs": [],
   "source": [
    "import requests\n",
    "from scrapy.http import TextResponse\n",
    "import re\n",
    "\n",
    "url = \"https://15gram.be/recepten/koreaanse-hartige-pannenkoek-pajeon\"\n",
    "user_agent = {'User-Agent': 'Mozilla/5.0 (X11; Linux x86_64) AppleWebKit/537.36 (KHTML, like Gecko) Ubuntu Chromium/58: .0.3029.110 Chrome/58.0.3029.110 Safari/537.36'}\n",
    "\n",
    "r = requests.get(url, headers=user_agent)\n",
    "response = TextResponse(r.url, body=r.text, encoding='utf-8')"
   ]
  },
  {
   "cell_type": "code",
   "execution_count": 2,
   "metadata": {},
   "outputs": [
    {
     "name": "stdout",
     "output_type": "stream",
     "text": [
      "2 eieren, losgeklopt\n",
      "16 lente-uitjes\n",
      "1 teentje knoflook, geperst\n",
      "2 wortelen\n",
      "250 g bloem\n",
      "4 el maïszetmeel\n",
      "½ kl suiker\n",
      "snufje zout\n",
      "250 ml spuitwater, koud\n",
      "3 el plantaardige olie\n",
      "100 ml sojasaus\n",
      "2 teentjes knoflook, geperst\n",
      "3 el honing\n",
      "3 el rijstazijn\n",
      "3 el water\n",
      "1½ el sesamolie\n",
      "1 kl chilivlokken\n"
     ]
    }
   ],
   "source": [
    "# Inhoud ingredienten: let op, geen aparte elementen voor hoeveelheid en eenheden\n",
    "\n",
    "for el in response.xpath('//li[@itemprop=\"recipeIngredient\"]/text()').extract():\n",
    "    \n",
    "    print(el)"
   ]
  },
  {
   "cell_type": "code",
   "execution_count": 3,
   "metadata": {
    "scrolled": true
   },
   "outputs": [
    {
     "name": "stdout",
     "output_type": "stream",
     "text": [
      "Snij de lente-uitjes in ringetjes. Snij de wortel in julienne.\n",
      "Doe de bloem, het maïszetmeel, de suiker en het zout in een kom en meng. Maak een kuiltje in het midden en voeg het spuitwater, de losgeklopte eieren en de geperste knoflook toe. Meng door elkaar tot je een kleverig deeg hebt. Er mogen nog wat klonters inzitten. Voeg de helft van de lente-uitjes en wortelen toe.\n",
      "Verhit de helft van de plantaardige olie in een antikleefpan en giet er de helft van het beslag in. Bestrooi met de helft van de rest van de lente-uitjes en wortel en duw lichtjes aan, zodat de groenten in het deeg kleven.\n",
      "Laat 4-5 minuten bakken tot de onderkant mooi goudbruin kleurt en draai dan de pannenkoek om en bak de andere kant. Herhaal met de rest van de ingrediënten.\n",
      "Doe alle ingrediënten voor de dipsaus in een sauspannetje en breng aan de kook. Laat 5 minuten doorkoken en haal dan van het vuur.\n",
      "Snij de pannenkoeken in spieën en serveer met de lauwe dipsaus.\n"
     ]
    }
   ],
   "source": [
    "# Text inhoud van alle 'stappen'\n",
    "for el in response.xpath('//li[@itemprop=\"recipeInstructions\"]/text()').extract():\n",
    "    \n",
    "    print(el)"
   ]
  },
  {
   "cell_type": "code",
   "execution_count": 4,
   "metadata": {},
   "outputs": [
    {
     "data": {
      "text/plain": [
       "'Koreaanse hartige pannenkoek (pajeon)'"
      ]
     },
     "execution_count": 4,
     "metadata": {},
     "output_type": "execute_result"
    }
   ],
   "source": [
    "#titel\n",
    "title = response.xpath('//h1 [@itemprop=\"name\"]/text()').extract()[0]\n",
    "#verwijder whitespace vooraan\n",
    "title = re.sub('^[\\t\\r\\n ]+','',title)\n",
    "title"
   ]
  },
  {
   "cell_type": "code",
   "execution_count": 5,
   "metadata": {},
   "outputs": [
    {
     "data": {
      "text/plain": [
       "\"Deze Koreaanse hartige pannenkoek met lente-uitjes moet je proeven! Ook heel lekker met scampi's erin gebakken. Dip de pannenkoek in het heerlijke sausje.\""
      ]
     },
     "execution_count": 5,
     "metadata": {},
     "output_type": "execute_result"
    }
   ],
   "source": [
    "#Beschrijving\n",
    "description = response.xpath('//div [@class=\"recipe-description row\"]/div/p/text()').extract()[0]\n",
    "description = re.sub('^[\\t\\r\\n ]+','',description)\n",
    "description = re.sub('[\\t\\r\\n ]+$','',description)\n",
    "description"
   ]
  },
  {
   "cell_type": "code",
   "execution_count": 6,
   "metadata": {},
   "outputs": [
    {
     "data": {
      "text/plain": [
       "['2']"
      ]
     },
     "execution_count": 6,
     "metadata": {},
     "output_type": "execute_result"
    }
   ],
   "source": [
    "#Aantal favorites\n",
    "response.xpath('//button [@class=\"favorite user-action-button small\"]/span [@class=\"count\"]/text()').extract()"
   ]
  },
  {
   "cell_type": "code",
   "execution_count": 7,
   "metadata": {},
   "outputs": [
    {
     "data": {
      "text/plain": [
       "[]"
      ]
     },
     "execution_count": 7,
     "metadata": {},
     "output_type": "execute_result"
    }
   ],
   "source": [
    "#vegetarsch? er staat een link naar 'zoeken op vegetarisch'\n",
    "response.xpath('//a [@href=\"https://15gram.be/tag/vegetarisch\"]/text()').extract()"
   ]
  },
  {
   "cell_type": "code",
   "execution_count": 8,
   "metadata": {},
   "outputs": [
    {
     "name": "stdout",
     "output_type": "stream",
     "text": [
      "lunch\n",
      "voorgerecht\n",
      "pannenkoek\n",
      "Aziatisch\n",
      "lente-uitje\n",
      "sojasaus\n",
      "wortel\n"
     ]
    }
   ],
   "source": [
    "# alle tags\n",
    "#response.xpath('//div [@class=\"tags-elements\"]/ul/li/a/text()')\n",
    "for tag in response.xpath('//div [@class=\"tags-elements\"]/ul/li/a/text()').extract():\n",
    "    tag = re.sub('^[\\t\\r\\n ]+','',tag)\n",
    "    tag = re.sub('[\\t\\r\\n ]+$','',tag)\n",
    "    print(tag)"
   ]
  },
  {
   "cell_type": "markdown",
   "metadata": {},
   "source": [
    "Ook een optie voor voedingswaarden"
   ]
  }
 ],
 "metadata": {
  "kernelspec": {
   "display_name": "Python 3",
   "language": "python",
   "name": "python3"
  },
  "language_info": {
   "codemirror_mode": {
    "name": "ipython",
    "version": 3
   },
   "file_extension": ".py",
   "mimetype": "text/x-python",
   "name": "python",
   "nbconvert_exporter": "python",
   "pygments_lexer": "ipython3",
   "version": "3.6.4"
  }
 },
 "nbformat": 4,
 "nbformat_minor": 2
}
