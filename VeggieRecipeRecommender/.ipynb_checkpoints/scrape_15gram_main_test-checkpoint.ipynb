{
 "cells": [
  {
   "cell_type": "code",
   "execution_count": 1,
   "metadata": {},
   "outputs": [],
   "source": [
    "import requests\n",
    "from scrapy.http import TextResponse\n",
    "import re\n",
    "\n",
    "url = \"https://15gram.be/recepten?page=1\"\n",
    "user_agent = {'User-Agent': 'Mozilla/5.0 (X11; Linux x86_64) AppleWebKit/537.36 (KHTML, like Gecko) Ubuntu Chromium/58: .0.3029.110 Chrome/58.0.3029.110 Safari/537.36'}\n",
    "\n",
    "r = requests.get(url, headers=user_agent)\n",
    "response = TextResponse(r.url, body=r.text, encoding='utf-8')"
   ]
  },
  {
   "cell_type": "code",
   "execution_count": 3,
   "metadata": {},
   "outputs": [
    {
     "name": "stdout",
     "output_type": "stream",
     "text": [
      "https://15gram.be/recepten/aubergine-tandoori-dahl-met-pitabroodjes\n",
      "https://15gram.be/recepten/romige-kip-met-asperges-en-dragon\n",
      "https://15gram.be/recepten/taco-met-zoete-aardappel-en-fetasaus\n",
      "https://15gram.be/recepten/zalmschotel-met-geroosterde-asperges\n",
      "https://15gram.be/recepten/geroosterde-aubergine-met-mozzarella-citroen-en-couscous\n",
      "https://15gram.be/recepten/lauwe-salade-van-groene-asperges-erwten-en-basilicum-met-een-toefje-citroenroom\n",
      "https://15gram.be/recepten/pita-s-met-geroosterde-bloemkool-courgette-en-frisse-looksaus\n",
      "https://15gram.be/recepten/graantjessalade-met-groene-asperges-en-geroosterde-kippendij\n",
      "https://15gram.be/recepten/wraps-met-ras-el-hanout-champignons-feta-en-peterselie\n",
      "https://15gram.be/recepten/kipfilet-met-quinoa-groene-asperges-en-sperziebonen\n",
      "https://15gram.be/recepten/caesar-salade-met-gegrilde-kip-1\n",
      "https://15gram.be/recepten/pappardelle-met-asperges-en-notensaus\n",
      "https://15gram.be/recepten/kip-met-puttanescasaus-en-rijst\n",
      "https://15gram.be/recepten/scampi-met-groene-asperges\n",
      "https://15gram.be/recepten/kippenballetjes-zoet-zuur-met-rijst\n",
      "https://15gram.be/recepten/zalm-met-asperges-en-bieslooksaus\n",
      "https://15gram.be/recepten/tonijnballetjes-in-tomaat-paprikasaus-met-linguine\n",
      "https://15gram.be/recepten/taart-met-krab-en-asperges\n",
      "https://15gram.be/recepten/gevulde-tomaten-met-couscous-en-korianderpesto\n",
      "https://15gram.be/recepten/asperges-met-prosciutto\n",
      "https://15gram.be/recepten/bibimbap-met-rijst-en-een-spiegelei\n",
      "https://15gram.be/recepten/thaise-wok-met-asperges\n",
      "https://15gram.be/recepten/chili-sin-carne-burrito-s\n",
      "https://15gram.be/recepten/limoenrisotto-met-asperge-en-scampi\n"
     ]
    }
   ],
   "source": [
    "#alle recepten op een pagina\n",
    "for receptUrl in response.xpath('//div[@class=\"search-result tile-wrapper\"]/div/div/div/h2/a'):\n",
    "    print(receptUrl.xpath(\"@href\").extract()[0])"
   ]
  },
  {
   "cell_type": "code",
   "execution_count": null,
   "metadata": {},
   "outputs": [],
   "source": []
  }
 ],
 "metadata": {
  "kernelspec": {
   "display_name": "Python 3",
   "language": "python",
   "name": "python3"
  },
  "language_info": {
   "codemirror_mode": {
    "name": "ipython",
    "version": 3
   },
   "file_extension": ".py",
   "mimetype": "text/x-python",
   "name": "python",
   "nbconvert_exporter": "python",
   "pygments_lexer": "ipython3",
   "version": "3.6.4"
  }
 },
 "nbformat": 4,
 "nbformat_minor": 2
}
