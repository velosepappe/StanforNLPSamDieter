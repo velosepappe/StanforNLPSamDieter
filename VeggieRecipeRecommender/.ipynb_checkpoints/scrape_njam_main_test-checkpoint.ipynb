{
 "cells": [
  {
   "cell_type": "code",
   "execution_count": 1,
   "metadata": {},
   "outputs": [],
   "source": [
    "import requests\n",
    "from scrapy.http import TextResponse\n",
    "import re\n",
    "import json"
   ]
  },
  {
   "cell_type": "code",
   "execution_count": 2,
   "metadata": {},
   "outputs": [],
   "source": [
    "mainUrl = \"https://njam.tv/recepten?page=\"\n",
    "user_agent = {'User-Agent': 'Mozilla/5.0 (X11; Linux x86_64) AppleWebKit/537.36 (KHTML, like Gecko) Ubuntu Chromium/58: .0.3029.110 Chrome/58.0.3029.110 Safari/537.36'}\n",
    "page = 1\n",
    "\n"
   ]
  },
  {
   "cell_type": "code",
   "execution_count": 3,
   "metadata": {},
   "outputs": [],
   "source": [
    "def getResponse(url, user_agent):\n",
    "    r = requests.get(url, headers=user_agent)\n",
    "    return TextResponse(r.url, body=r.text, encoding='utf-8')"
   ]
  },
  {
   "cell_type": "code",
   "execution_count": 4,
   "metadata": {},
   "outputs": [],
   "source": [
    "def title(response):\n",
    "    #titel\n",
    "    title = response.xpath('//h1/text()').extract()[0]\n",
    "    #verwijder whitespace vooraan\n",
    "    title = re.sub('^[\\t\\r\\n ]+','',title)\n",
    "    title = re.sub('[\\t\\r\\n ]+$','',title)\n",
    "    return title"
   ]
  },
  {
   "cell_type": "code",
   "execution_count": 5,
   "metadata": {},
   "outputs": [],
   "source": [
    "def rating(response):\n",
    "    rating = response.xpath('//div [@class=\"global margin-top-sm\"]/div/div/div [@class=\"rating\"]/span [@class=\"filled-stars\"]/@style').extract()[0]\n",
    "    rating = rating.replace('width: ','')\n",
    "    rating = rating.replace('%','')\n",
    "    return int(rating)"
   ]
  },
  {
   "cell_type": "code",
   "execution_count": 6,
   "metadata": {},
   "outputs": [],
   "source": [
    "# Inhoud ingredienten\n",
    "def ingredients(response):\n",
    "    ingredients = []\n",
    "    for el in response.xpath('//tr [@itemprop=\"recipeIngredient\"]').extract():\n",
    "        #REGEX\n",
    "        #Verwijder html tags\n",
    "        el=re.sub(\"<.*?>\", \"\",el)\n",
    "        #newline characters verwijderen\n",
    "        el=re.sub(\"[\\t\\r\\n]\",\" \",el)\n",
    "        #meerdere spaties vervangen door 1 spatie\n",
    "        el=re.sub(\" +\",\" \",el)\n",
    "        el=re.sub(\"^ +\",\"\",el)\n",
    "        el=re.sub(\" +$\",\"\",el)\n",
    "        ingredients.append(el)\n",
    "    return ingredients"
   ]
  },
  {
   "cell_type": "code",
   "execution_count": 7,
   "metadata": {},
   "outputs": [],
   "source": [
    "def instructions(response):\n",
    "    instructions = []\n",
    "    for step in response.xpath('//div [@class=\"reading instructions\"]/p/text()').extract():\n",
    "        step = re.sub('[\\t\\r\\n ]+$','',step)\n",
    "        instructions.append(step)\n",
    "    return instructions"
   ]
  },
  {
   "cell_type": "code",
   "execution_count": 8,
   "metadata": {},
   "outputs": [],
   "source": [
    "def labels(response):\n",
    "    labels = []\n",
    "    for label in response.xpath('//div [@data-metrics-cat=\"categoryList\"]/div/a/text()').extract():\n",
    "        label = re.sub('[\\t\\r\\n ]+$','',label)\n",
    "        label = re.sub('^[\\t\\r\\n ]+','',label)\n",
    "        if label != \"\":\n",
    "            labels.append(label)\n",
    "    return labels"
   ]
  },
  {
   "cell_type": "code",
   "execution_count": 9,
   "metadata": {},
   "outputs": [
    {
     "name": "stdout",
     "output_type": "stream",
     "text": [
      "PAGE 1\n",
      "PAGE 2\n"
     ]
    }
   ],
   "source": [
    "data = {}\n",
    "data['recipes']=[]\n",
    "\n",
    "while True:\n",
    "    print(\"PAGE \" + str(page))\n",
    "    mainResponse = getResponse(mainUrl + str(page), user_agent)\n",
    "    receptPages = mainResponse.xpath('//a[@class=\"tile-title\"]')\n",
    "    if (len(receptPages) == 0 or page > 1):\n",
    "        break\n",
    "    #alle recepten op een pagina\n",
    "    for receptUrl in receptPages:\n",
    "        url = receptUrl.xpath(\"@href\").extract()[0]\n",
    "        response = getResponse(url, user_agent)\n",
    "        \n",
    "        data['recipes'].append({\n",
    "            'url':receptUrl.xpath(\"@href\").extract()[0],\n",
    "            'name':title(response),\n",
    "            'rating':rating(response),\n",
    "            'maxRating':100,\n",
    "            'ingredients':ingredients(response),\n",
    "            'instructions':instructions(response),\n",
    "            'labels':labels(response)\n",
    "        })\n",
    "    \n",
    "    page = page+ 1\n",
    "\n",
    "with open('data.txt', 'w') as outfile:  \n",
    "    json.dump(data, outfile)"
   ]
  },
  {
   "cell_type": "code",
   "execution_count": null,
   "metadata": {},
   "outputs": [],
   "source": []
  }
 ],
 "metadata": {
  "kernelspec": {
   "display_name": "Python 3",
   "language": "python",
   "name": "python3"
  },
  "language_info": {
   "codemirror_mode": {
    "name": "ipython",
    "version": 3
   },
   "file_extension": ".py",
   "mimetype": "text/x-python",
   "name": "python",
   "nbconvert_exporter": "python",
   "pygments_lexer": "ipython3",
   "version": "3.6.4"
  }
 },
 "nbformat": 4,
 "nbformat_minor": 2
}
