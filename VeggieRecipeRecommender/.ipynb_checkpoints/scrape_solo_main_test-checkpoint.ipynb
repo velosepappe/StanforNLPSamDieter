{
 "cells": [
  {
   "cell_type": "code",
   "execution_count": 25,
   "metadata": {},
   "outputs": [],
   "source": [
    "import requests\n",
    "from scrapy.http import TextResponse\n",
    "import re\n",
    "\n",
    "url = \"https://www.solo.be/nl/zoeken/?page=1000\"\n",
    "user_agent = {'User-Agent': 'Mozilla/5.0 (X11; Linux x86_64) AppleWebKit/537.36 (KHTML, like Gecko) Ubuntu Chromium/58: .0.3029.110 Chrome/58.0.3029.110 Safari/537.36'}\n",
    "\n",
    "r = requests.get(url, headers=user_agent)\n",
    "response = TextResponse(r.url, body=r.text, encoding='utf-8')"
   ]
  },
  {
   "cell_type": "code",
   "execution_count": 26,
   "metadata": {},
   "outputs": [
    {
     "name": "stdout",
     "output_type": "stream",
     "text": [
      "https://www.solo.be/nl/recepten/broccolisoep-met-gerookt-spek-en-zalmforel2/\n",
      "https://www.solo.be/nl/recepten/scampis-in-knoflooksaus/\n",
      "https://www.solo.be/nl/recepten/hapje-van-gerookte-forel2/\n",
      "https://www.solo.be/nl/recepten/gevulde-champignons3/\n",
      "https://www.solo.be/nl/recepten/cocktail-maison/\n",
      "https://www.solo.be/nl/recepten/valentijn-chocoladecake/\n",
      "https://www.solo.be/nl/recepten/spaghetti-anders-niet-italiaans-maar-net-zo-lekker/\n",
      "https://www.solo.be/nl/recepten/braadworst-met-wasabi--erwtenpuree/\n",
      "https://www.solo.be/nl/recepten/vol-au-vent3/\n",
      "https://www.solo.be/nl/recepten/spagettiesaus/\n",
      "https://www.solo.be/nl/recepten/beef-mango-salad/\n",
      "https://www.solo.be/nl/recepten/linguini-kip-of-scampi-rode-pesto-mascarpone/\n"
     ]
    }
   ],
   "source": [
    "#alle recepten op een pagina\n",
    "for receptUrl in response.xpath('//a[@class=\"teaser teaser--new teaser--new--recipe\"]'):\n",
    "    print('https://www.solo.be' + receptUrl.xpath(\"@href\").extract()[0])"
   ]
  },
  {
   "cell_type": "markdown",
   "metadata": {},
   "source": [
    "12 recepten per pagina\n",
    "pagina 1 tem 10 worden nieuwe recepten gewoon toegevoegd. Pagina 1 bevat de nieuwste 12 recepten, pagina 2 bevat 24 ...\n",
    "Opgelet: ik vermoed dat de pagina niet statisch is, als recepten worden bijgevoegd zullen oudere recepten naar onder geshift worden in de pagina"
   ]
  }
 ],
 "metadata": {
  "kernelspec": {
   "display_name": "Python 3",
   "language": "python",
   "name": "python3"
  },
  "language_info": {
   "codemirror_mode": {
    "name": "ipython",
    "version": 3
   },
   "file_extension": ".py",
   "mimetype": "text/x-python",
   "name": "python",
   "nbconvert_exporter": "python",
   "pygments_lexer": "ipython3",
   "version": "3.6.4"
  }
 },
 "nbformat": 4,
 "nbformat_minor": 2
}
