{
 "cells": [
  {
   "cell_type": "code",
   "execution_count": 1,
   "metadata": {},
   "outputs": [],
   "source": [
    "import requests\n",
    "from scrapy.http import TextResponse\n",
    "import re\n",
    "\n",
    "url = \"https://www.solo.be/nl/recepten/quiche-met-carpacio-van-courgette/\"\n",
    "user_agent = {'User-Agent': 'Mozilla/5.0 (X11; Linux x86_64) AppleWebKit/537.36 (KHTML, like Gecko) Ubuntu Chromium/58: .0.3029.110 Chrome/58.0.3029.110 Safari/537.36'}\n",
    "\n",
    "r = requests.get(url, headers=user_agent)\n",
    "response = TextResponse(r.url, body=r.text, encoding='utf-8')"
   ]
  },
  {
   "cell_type": "code",
   "execution_count": 2,
   "metadata": {},
   "outputs": [
    {
     "name": "stdout",
     "output_type": "stream",
     "text": [
      "[{'component': 'bladerdeeg', 'measure': '1'}, {'component': 'courgette', 'measure': '1'}, {'component': 'rucola', 'measure': '100 gram'}, {'component': 'dragon', 'measure': '2 el'}, {'component': 'basilicum', 'measure': '2 el'}, {'component': 'citroen', 'measure': '1'}, {'description': '200 gram roomkaas'}, {'component': 'parmezaanse kaas', 'measure': '100 gram'}, {'component': 'ei', 'measure': '1'}, {'component': 'nootmuskaat', 'measure': ''}, {'component': 'olijfolie', 'measure': ''}, {'component': 'peper en zout', 'measure': ''}]\n"
     ]
    }
   ],
   "source": [
    "# Inhoud ingredienten\n",
    "\n",
    "ingredients = []\n",
    "    \n",
    "for el in response.xpath('//ul[@class=\"list list--ingredients\"]/li'):\n",
    "    ingredient = {}\n",
    "    description = el.xpath('.//span/text()').extract()\n",
    "    \n",
    "    component= el.xpath('.//span/a/text()').extract()\n",
    "    unit= el.xpath('.//td [@class=\"quantity-list-unit\"]/span [@data-unit]/text()').extract()\n",
    "    if len(component) > 0:\n",
    "        ingredient['component']= component[0]\n",
    "        if len(description)>0:\n",
    "            measure = re.sub('[\\t\\r\\n ]+$','',description[0])\n",
    "            ingredient['measure']= measure\n",
    "        ingredients.append(ingredient)\n",
    "    else:\n",
    "        if len(description)>0:\n",
    "            ingredient['description']= description[0]\n",
    "            ingredients.append(ingredient) \n",
    "print(ingredients)"
   ]
  },
  {
   "cell_type": "code",
   "execution_count": 3,
   "metadata": {},
   "outputs": [],
   "source": [
    "#Ingredienten binnenhalen ook getest door volledig xpath te gebruiken... te veel prutswerk\n",
    "    # ingredienten bevatten zowel tekst als hyperlinks met tekst waarden\n",
    "#    s = ''\n",
    "#    for txt in node.xpath('text()').extract():\n",
    "#        s = s + \" \" + txt\n",
    "#    for txt in node.xpath('/a/text()').extract():\n",
    "#        s = s + \" \" + txt\n",
    "#    print(s)"
   ]
  },
  {
   "cell_type": "code",
   "execution_count": 4,
   "metadata": {},
   "outputs": [
    {
     "data": {
      "text/plain": [
       "['Bekleed de vorm met het bladerdeeg en prik in',\n",
       " 'bak 15 min op 180°',\n",
       " 'Laat afkoelen',\n",
       " 'Meng de roomkaas met het ei en kruid met zout en nootmuscaat',\n",
       " 'Voeg de kruiden toe en de citroenrasp',\n",
       " 'Vul de bodem met het mengsel en bak nog 20 min',\n",
       " 'Snij carpacio van de courgette (dunschiller)',\n",
       " 'Kruid met peper en zout en besprenkel met olijfolie',\n",
       " 'Haal de quiche uit de over',\n",
       " 'Leg er de courgette bovenop',\n",
       " 'Werk af met rucola en de parmezaam schilfers']"
      ]
     },
     "execution_count": 4,
     "metadata": {},
     "output_type": "execute_result"
    }
   ],
   "source": [
    "# Text inhoud van alle 'stappen'\n",
    "response.xpath('//div [@itemprop=\"recipeInstructions\"]/ol/li/text()').extract()"
   ]
  },
  {
   "cell_type": "code",
   "execution_count": 5,
   "metadata": {},
   "outputs": [
    {
     "data": {
      "text/plain": [
       "'Quiche met carpacio van courgette'"
      ]
     },
     "execution_count": 5,
     "metadata": {},
     "output_type": "execute_result"
    }
   ],
   "source": [
    "#titel\n",
    "title = response.xpath('//h1 [@itemprop=\"name\"]/text()').extract()[0]\n",
    "#verwijder whitespace vooraan\n",
    "title = re.sub('^[\\t\\r\\n ]+','',title)\n",
    "title"
   ]
  },
  {
   "cell_type": "code",
   "execution_count": 6,
   "metadata": {},
   "outputs": [
    {
     "name": "stdout",
     "output_type": "stream",
     "text": [
      "['Op zoek naar het lekkerste quiche met carpacio van courgette recept? Ontdek nu de heerlijke recepten van Solo Open Kitchen. Laat je inspireren en ga aan de slag!']\n"
     ]
    }
   ],
   "source": [
    "#Beschrijving\n",
    "for node in response.xpath('//meta [@itemprop=\"description\"]'):\n",
    "    print(node.xpath(\"@content\").extract())"
   ]
  },
  {
   "cell_type": "code",
   "execution_count": 7,
   "metadata": {},
   "outputs": [
    {
     "data": {
      "text/plain": [
       "['5']"
      ]
     },
     "execution_count": 7,
     "metadata": {},
     "output_type": "execute_result"
    }
   ],
   "source": [
    "#Rating, max 5\n",
    "response.xpath('//span [@itemprop=\"ratingValue\"]/text()').extract()"
   ]
  },
  {
   "cell_type": "code",
   "execution_count": 8,
   "metadata": {},
   "outputs": [
    {
     "data": {
      "text/plain": [
       "['1']"
      ]
     },
     "execution_count": 8,
     "metadata": {},
     "output_type": "execute_result"
    }
   ],
   "source": [
    "#Aantal stemmen\n",
    "response.xpath('//span [@itemprop=\"ratingCount\"]/text()').extract()"
   ]
  },
  {
   "cell_type": "code",
   "execution_count": 9,
   "metadata": {},
   "outputs": [
    {
     "data": {
      "text/plain": [
       "['Vegetarisch']"
      ]
     },
     "execution_count": 9,
     "metadata": {},
     "output_type": "execute_result"
    }
   ],
   "source": [
    "#vegetarsch? er staat een link naar 'zoeken op vegetarisch'\n",
    "response.xpath('//a [@href=\"/nl/zoeken/vegetarisch/\"] [@itemprop=\"recipeCategory\"]/text()').extract()"
   ]
  },
  {
   "cell_type": "code",
   "execution_count": 10,
   "metadata": {},
   "outputs": [
    {
     "data": {
      "text/plain": [
       "['Hoofdgerecht', 'Vegetarisch']"
      ]
     },
     "execution_count": 10,
     "metadata": {},
     "output_type": "execute_result"
    }
   ],
   "source": [
    "# alle categorieën\n",
    "response.xpath('//a [@itemprop=\"recipeCategory\"]/text()').extract()"
   ]
  },
  {
   "cell_type": "code",
   "execution_count": null,
   "metadata": {},
   "outputs": [],
   "source": []
  }
 ],
 "metadata": {
  "kernelspec": {
   "display_name": "Python 3",
   "language": "python",
   "name": "python3"
  },
  "language_info": {
   "codemirror_mode": {
    "name": "ipython",
    "version": 3
   },
   "file_extension": ".py",
   "mimetype": "text/x-python",
   "name": "python",
   "nbconvert_exporter": "python",
   "pygments_lexer": "ipython3",
   "version": "3.6.4"
  }
 },
 "nbformat": 4,
 "nbformat_minor": 2
}
