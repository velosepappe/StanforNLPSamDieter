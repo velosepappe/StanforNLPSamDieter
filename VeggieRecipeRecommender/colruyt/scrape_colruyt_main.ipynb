{
 "cells": [
  {
   "cell_type": "code",
   "execution_count": 1,
   "metadata": {},
   "outputs": [],
   "source": [
    "import requests\n",
    "from scrapy.http import TextResponse\n",
    "import re\n",
    "import json\n",
    "import html"
   ]
  },
  {
   "cell_type": "code",
   "execution_count": 2,
   "metadata": {},
   "outputs": [],
   "source": [
    "mainUrlPrefix = \"https://www.colruyt.be/nl/recipe/search/advanced/ajax?nrReturnedRes=12&nrFirstRes=\"\n",
    "mainUrlSuffix = \"&facets=false&\"\n",
    "user_agent = {'User-Agent': 'Mozilla/5.0 (X11; Linux x86_64) AppleWebKit/537.36 (KHTML, like Gecko) Ubuntu Chromium/58: .0.3029.110 Chrome/58.0.3029.110 Safari/537.36'}\n",
    "page = 1\n",
    "receptUrlPrefix = \"https://www.colruyt.be\"\n",
    "\n"
   ]
  },
  {
   "cell_type": "code",
   "execution_count": 3,
   "metadata": {},
   "outputs": [],
   "source": [
    "def getResponse(url, user_agent):\n",
    "    r = requests.get(url, headers=user_agent)\n",
    "    return TextResponse(r.url, body=r.text, encoding='utf-8')"
   ]
  },
  {
   "cell_type": "code",
   "execution_count": 4,
   "metadata": {},
   "outputs": [],
   "source": [
    "def getReceptUrls(previousIndex):\n",
    "    resp=getResponse(mainUrlPrefix + str(previousIndex + 1) + mainUrlSuffix,user_agent)\n",
    "    text = html.unescape(resp.text.encode().decode(\"unicode-escape\"))\n",
    "    actualResponse = TextResponse(url=\"dummy\", body=text, encoding='utf-8')\n",
    "\n",
    "    urls = actualResponse.xpath('//a/@href').extract()\n",
    "    toReturn = []\n",
    "    for url in urls:\n",
    "        toReturn.append(receptUrlPrefix + url.replace(\"\\\\\",\"\"))\n",
    "    return toReturn"
   ]
  },
  {
   "cell_type": "code",
   "execution_count": 5,
   "metadata": {},
   "outputs": [],
   "source": [
    "def title(response):\n",
    "    #titel\n",
    "    title = response.xpath('//h1 [@class=\"recipe-field recipe-field-recipetitle page-header\"]/text()').extract()[0]\n",
    "    #verwijder whitespace vooraan\n",
    "    title = re.sub('^[\\t\\r\\n ]+','',title)\n",
    "    title = re.sub('[\\t\\r\\n ]+$','',title)\n",
    "    return title"
   ]
  },
  {
   "cell_type": "code",
   "execution_count": 6,
   "metadata": {},
   "outputs": [],
   "source": [
    "# Inhoud ingredienten\n",
    "def ingredients(response):\n",
    "    ingredients = []\n",
    "    for el in response.xpath('//div [@class=\"recipe-field recipe-field-ingredients\"]/ul/li/text()').extract():\n",
    "        ingredient = {}\n",
    "        ingredient['description']= el\n",
    "        ingredients.append(ingredient) \n",
    "    return ingredients"
   ]
  },
  {
   "cell_type": "code",
   "execution_count": 7,
   "metadata": {},
   "outputs": [],
   "source": [
    "def instructions(response):\n",
    "    instructions = []\n",
    "    for step in response.xpath('//div [@class=\"recipe-field recipe-field-preparation\"]/text()').extract():\n",
    "        step = re.sub('^[\\r\\n \\-0-9]+','',step)\n",
    "        instructions.append(step)\n",
    "    for step in response.xpath('//div [@class=\"recipe-field recipe-field-cooking\"]/text()').extract():\n",
    "        step = re.sub('^[\\r\\n \\-0-9]+','',step)\n",
    "        instructions.append(step)\n",
    "    for step in response.xpath('//div [@class=\"recipe-field recipe-field-finishing\"]/text()').extract():\n",
    "        step = re.sub('^[\\r\\n \\-0-9]+','',step)\n",
    "        instructions.append(step)\n",
    "    return instructions"
   ]
  },
  {
   "cell_type": "code",
   "execution_count": 8,
   "metadata": {},
   "outputs": [],
   "source": [
    "def labels(response):\n",
    "    labels = []\n",
    "    for label in response.xpath('//div [@class=\"recipe-field recipe-field-classbase\"]/ul/li/a/text()').extract():\n",
    "        if label != \"\":\n",
    "            labels.append(label)\n",
    "    return labels"
   ]
  },
  {
   "cell_type": "code",
   "execution_count": null,
   "metadata": {},
   "outputs": [],
   "source": [
    "def createRecipe(url):\n",
    "    response = getResponse(url, user_agent)\n",
    "    recipe = {\n",
    "            'url':url,\n",
    "            'name':title(response),\n",
    "            'ingredients':ingredients(response),\n",
    "            'instructions':instructions(response),\n",
    "            'labels':labels(response)\n",
    "        }\n",
    "    return recipe"
   ]
  },
  {
   "cell_type": "code",
   "execution_count": null,
   "metadata": {
    "scrolled": true
   },
   "outputs": [
    {
     "name": "stdout",
     "output_type": "stream",
     "text": [
      "PAGE 1\n"
     ]
    },
    {
     "name": "stderr",
     "output_type": "stream",
     "text": [
      "C:\\Users\\ingel\\Anaconda3\\lib\\site-packages\\ipykernel_launcher.py:3: DeprecationWarning: invalid escape sequence '\\/'\n",
      "  This is separate from the ipykernel package so we can avoid doing imports until\n"
     ]
    },
    {
     "name": "stdout",
     "output_type": "stream",
     "text": [
      "RECEPT 1\n",
      "RECEPT 2\n",
      "RECEPT 3\n",
      "RECEPT 4\n",
      "RECEPT 5\n",
      "RECEPT 6\n",
      "RECEPT 7\n",
      "RECEPT 8\n",
      "RECEPT 9\n",
      "RECEPT 10\n",
      "RECEPT 11\n",
      "RECEPT 12\n",
      "PAGE 2\n",
      "RECEPT 13\n",
      "RECEPT 14\n",
      "RECEPT 15\n",
      "RECEPT 16\n",
      "RECEPT 17\n",
      "RECEPT 18\n",
      "RECEPT 19\n",
      "RECEPT 20\n",
      "RECEPT 21\n",
      "RECEPT 22\n",
      "RECEPT 23\n",
      "RECEPT 24\n",
      "PAGE 3\n",
      "RECEPT 25\n",
      "RECEPT 26\n",
      "RECEPT 27\n",
      "RECEPT 28\n",
      "RECEPT 29\n",
      "RECEPT 30\n",
      "RECEPT 31\n",
      "RECEPT 32\n",
      "RECEPT 33\n",
      "RECEPT 34\n",
      "RECEPT 35\n",
      "RECEPT 36\n",
      "PAGE 4\n",
      "RECEPT 37\n",
      "RECEPT 38\n",
      "RECEPT 39\n",
      "RECEPT 40\n",
      "RECEPT 41\n",
      "RECEPT 42\n",
      "RECEPT 43\n",
      "RECEPT 44\n",
      "RECEPT 45\n",
      "RECEPT 46\n",
      "RECEPT 47\n",
      "RECEPT 48\n",
      "PAGE 5\n",
      "RECEPT 49\n",
      "RECEPT 50\n",
      "RECEPT 51\n",
      "RECEPT 52\n",
      "RECEPT 53\n",
      "RECEPT 54\n",
      "RECEPT 55\n",
      "RECEPT 56\n",
      "RECEPT 57\n",
      "RECEPT 58\n",
      "RECEPT 59\n",
      "RECEPT 60\n",
      "PAGE 6\n",
      "RECEPT 61\n",
      "RECEPT 62\n",
      "RECEPT 63\n",
      "RECEPT 64\n",
      "RECEPT 65\n",
      "RECEPT 66\n",
      "RECEPT 67\n",
      "RECEPT 68\n",
      "RECEPT 69\n",
      "RECEPT 70\n",
      "RECEPT 71\n",
      "RECEPT 72\n",
      "PAGE 7\n",
      "RECEPT 73\n",
      "RECEPT 74\n",
      "RECEPT 75\n",
      "RECEPT 76\n",
      "RECEPT 77\n",
      "RECEPT 78\n",
      "RECEPT 79\n",
      "RECEPT 80\n",
      "RECEPT 81\n",
      "RECEPT 82\n",
      "RECEPT 83\n",
      "RECEPT 84\n",
      "PAGE 8\n",
      "RECEPT 85\n",
      "RECEPT 86\n",
      "RECEPT 87\n",
      "RECEPT 88\n",
      "RECEPT 89\n",
      "RECEPT 90\n",
      "RECEPT 91\n",
      "RECEPT 92\n",
      "RECEPT 93\n",
      "RECEPT 94\n",
      "RECEPT 95\n",
      "RECEPT 96\n",
      "PAGE 9\n"
     ]
    }
   ],
   "source": [
    "data = {}\n",
    "data['recipes']=[]\n",
    "index = 0\n",
    "while True:\n",
    "    print(\"PAGE \" + str(page))\n",
    "    receptPages = getReceptUrls(index)\n",
    "    if (len(receptPages) == 0):\n",
    "        break\n",
    "    #alle recepten op een pagina\n",
    "    for receptUrl in receptPages:\n",
    "        index = index + 1\n",
    "        print(\"RECEPT \" + str(index))\n",
    "        data['recipes'].append(createRecipe(receptUrl))\n",
    "    if page%100 == 0:\n",
    "        print('EXPORTING TO ' + 'data' + str(page) + '.txt')\n",
    "        with open('data' + str(page) + '.txt', 'w', encoding='utf8') as outfile:  \n",
    "            json.dump(data, outfile, ensure_ascii=False)\n",
    "        data['recipes']=[]    \n",
    "    \n",
    "    page = page+ 1\n",
    "\n",
    "print('EXPORTING TO ' + 'data' + str(page) + '.txt')\n",
    "with open('data' + str(page) + '.txt', 'w', encoding='utf8') as outfile:  \n",
    "    json.dump(data, outfile, ensure_ascii=False)\n",
    "print(\"DONE\")"
   ]
  },
  {
   "cell_type": "code",
   "execution_count": null,
   "metadata": {},
   "outputs": [],
   "source": []
  }
 ],
 "metadata": {
  "kernelspec": {
   "display_name": "Python 3",
   "language": "python",
   "name": "python3"
  },
  "language_info": {
   "codemirror_mode": {
    "name": "ipython",
    "version": 3
   },
   "file_extension": ".py",
   "mimetype": "text/x-python",
   "name": "python",
   "nbconvert_exporter": "python",
   "pygments_lexer": "ipython3",
   "version": "3.6.4"
  }
 },
 "nbformat": 4,
 "nbformat_minor": 2
}
